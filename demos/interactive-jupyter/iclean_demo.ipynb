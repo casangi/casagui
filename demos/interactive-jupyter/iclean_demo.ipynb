{
 "cells": [
  {
   "cell_type": "code",
   "execution_count": null,
   "id": "e515b547",
   "metadata": {},
   "outputs": [],
   "source": [
    "import os\n",
    "import sys\n",
    "# Alter below path if needed to select custom casagui location\n",
    "sys.path.insert(0, os.path.abspath('../../../casagui/'))\n",
    "import casagui as casagui\n",
    "print(\"Casagui location: \" + casagui.__file__)\n",
    "from casagui.apps import InteractiveClean\n",
    "import asyncio"
   ]
  },
  {
   "cell_type": "code",
   "execution_count": null,
   "id": "434d1db2",
   "metadata": {},
   "outputs": [],
   "source": [
    "import urllib,ssl, certifi, tarfile\n",
    "ms_path = 'refim_point_withline.ms'\n",
    "##\n",
    "## where to fetch the demo measurement set\n",
    "##\n",
    "ms_url = \"https://casa.nrao.edu/download/devel/casavis/data/refim_point_withline-ms.tar.gz\"\n",
    "##\n",
    "## output image file name\n",
    "##\n",
    "img = 'test'\n",
    "\n",
    "if not os.path.isdir(ms_path):\n",
    "    try:\n",
    "        context = ssl.create_default_context(cafile=certifi.where())\n",
    "        tstream = urllib.request.urlopen(ms_url, context=context, timeout=400)\n",
    "        tar = tarfile.open(fileobj=tstream, mode=\"r:gz\")\n",
    "        tar.extractall( )\n",
    "    except urllib.error.URLError:\n",
    "        print(\"Failed to open connection to \"+ms_url)\n",
    "        raise\n",
    "        \n",
    "if not os.path.isdir(ms_path):\n",
    "    raise  RuntimeError(\"Failed to fetch measurement set\")"
   ]
  },
  {
   "cell_type": "code",
   "execution_count": null,
   "id": "2e888127",
   "metadata": {},
   "outputs": [],
   "source": [
    "ic = InteractiveClean( vis=ms_path, imagename=img,\n",
    "                       imsize=512,\n",
    "                       cell='12.0arcsec',\n",
    "                       specmode='cube',\n",
    "                       interpolation='nearest',\n",
    "                       nchan=5,\n",
    "                       start='1.0GHz',\n",
    "                       width='0.2GHz',\n",
    "                       pblimit=-1e-05,\n",
    "                       deconvolver='hogbom',\n",
    "                       threshold='0.001Jy',\n",
    "                       niter=2,\n",
    "                       cycleniter=10,\n",
    "                       cyclefactor=3,\n",
    "                       scales=[0,3,10] )"
   ]
  },
  {
   "cell_type": "code",
   "execution_count": null,
   "id": "08d3766f",
   "metadata": {},
   "outputs": [],
   "source": [
    "# Initialize pipes\n",
    "ic.setup()"
   ]
  },
  {
   "cell_type": "code",
   "execution_count": null,
   "id": "d9284313",
   "metadata": {},
   "outputs": [],
   "source": [
    "def gen_port_fwd_cmd(ic):\n",
    "    host = ic._pipe['control'].address[0]\n",
    "    \n",
    "    ports = [ic._pipe['control'].address[1],\n",
    "            ic._pipe['converge'].address[1],\n",
    "            ic._cube._pipe['image'].address[1],\n",
    "            ic._cube._pipe['control'].address[1]]\n",
    "    \n",
    "    cmd = 'ssh'\n",
    "    for port in ports:\n",
    "        cmd += (' -L ' + str(port) + ':localhost:' + str(port))\n",
    "    return cmd\n",
    "    \n",
    "print('Port Forwarding Command:\\n')\n",
    "gen_port_fwd_cmd(ic)"
   ]
  },
  {
   "cell_type": "markdown",
   "id": "6fa14e1f",
   "metadata": {},
   "source": [
    "### Enter the above bash command to forward the necessary ports to the remote server\n",
    "\n",
    "You will need to append the remote server's hostname to the end of this command."
   ]
  },
  {
   "cell_type": "code",
   "execution_count": null,
   "id": "98203d9f",
   "metadata": {},
   "outputs": [],
   "source": [
    "import bokeh.io\n",
    "bokeh.plotting.reset_output()\n",
    "bokeh.io.output_notebook()"
   ]
  },
  {
   "cell_type": "markdown",
   "id": "a9a09a51",
   "metadata": {},
   "source": [
    "## Start the Interactive Clean GUI\n",
    "\n",
    "Ensure port forwarding was successful before running the below cell."
   ]
  },
  {
   "cell_type": "code",
   "execution_count": null,
   "id": "72499882",
   "metadata": {
    "scrolled": false
   },
   "outputs": [],
   "source": [
    "# Start Interactive Clean GUI and display inline\n",
    "async def process_events( ):\n",
    "    async with ic.serve( ) as state:\n",
    "        await state[0]\n",
    "\n",
    "task_process=asyncio.create_task(process_events())"
   ]
  }
 ],
 "metadata": {
  "kernelspec": {
   "display_name": "casagui_test",
   "language": "python",
   "name": "casagui_test"
  },
  "language_info": {
   "codemirror_mode": {
    "name": "ipython",
    "version": 3
   },
   "file_extension": ".py",
   "mimetype": "text/x-python",
   "name": "python",
   "nbconvert_exporter": "python",
   "pygments_lexer": "ipython3",
   "version": "3.8.13"
  }
 },
 "nbformat": 4,
 "nbformat_minor": 5
}
